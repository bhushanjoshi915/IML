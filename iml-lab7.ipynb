{
 "cells": [
  {
   "cell_type": "code",
   "execution_count": 1,
   "id": "b3d359fa",
   "metadata": {
    "_cell_guid": "b1076dfc-b9ad-4769-8c92-a6c4dae69d19",
    "_uuid": "8f2839f25d086af736a60e9eeb907d3b93b6e0e5",
    "execution": {
     "iopub.execute_input": "2023-11-06T09:39:39.547775Z",
     "iopub.status.busy": "2023-11-06T09:39:39.547272Z",
     "iopub.status.idle": "2023-11-06T09:39:39.554196Z",
     "shell.execute_reply": "2023-11-06T09:39:39.552917Z"
    },
    "papermill": {
     "duration": 0.014566,
     "end_time": "2023-11-06T09:39:39.556636",
     "exception": false,
     "start_time": "2023-11-06T09:39:39.542070",
     "status": "completed"
    },
    "tags": []
   },
   "outputs": [],
   "source": [
    "###########################################################################################\n",
    "#                                  Name:Bhushan Joshi                                     #\n",
    "#                                  Enrollment:2162270307050                               #\n",
    "#                                  Div:G                                                  #\n",
    "#                                  Government Polytechnic Porbandar                       #\n",
    "###########################################################################################\n",
    "\n",
    "#Practical 7: Write a Pandas program to implement following operation"
   ]
  },
  {
   "cell_type": "code",
   "execution_count": 2,
   "id": "8ec01fe6",
   "metadata": {
    "execution": {
     "iopub.execute_input": "2023-11-06T09:39:39.566662Z",
     "iopub.status.busy": "2023-11-06T09:39:39.566200Z",
     "iopub.status.idle": "2023-11-06T09:39:40.002460Z",
     "shell.execute_reply": "2023-11-06T09:39:40.000776Z"
    },
    "papermill": {
     "duration": 0.444987,
     "end_time": "2023-11-06T09:39:40.004902",
     "exception": false,
     "start_time": "2023-11-06T09:39:39.559915",
     "status": "completed"
    },
    "tags": []
   },
   "outputs": [
    {
     "name": "stdout",
     "output_type": "stream",
     "text": [
      "Dataframe From Dictionary:\n",
      "      name  age       city\n",
      "0  Bhushan   19  Porbandar\n",
      "1   Gaurav   18     Rajkot\n",
      "2  Hitarth   18  Ahmedabad\n",
      "3    Hasan   18    Vadodra\n"
     ]
    }
   ],
   "source": [
    "#Practical 7.1:  to create a dataframe from a dictionary and display it\n",
    "#Name: Bhushan Joshi\n",
    "#Enrollment: 216270307050\n",
    "import pandas as pd\n",
    "data = {\n",
    "    \"name\": [\"Bhushan\", \"Gaurav\", \"Hitarth\", \"Hasan\"],\n",
    "    \"age\": [19, 18, 18, 18],\n",
    "    \"city\": [\"Porbandar\", \"Rajkot\", \"Ahmedabad\", \"Vadodra\"]\n",
    "}\n",
    "df = pd.DataFrame(data)\n",
    "print(\"Dataframe From Dictionary:\")\n",
    "print(df)"
   ]
  },
  {
   "cell_type": "code",
   "execution_count": 3,
   "id": "3b3b9882",
   "metadata": {
    "execution": {
     "iopub.execute_input": "2023-11-06T09:39:40.013154Z",
     "iopub.status.busy": "2023-11-06T09:39:40.012617Z",
     "iopub.status.idle": "2023-11-06T09:39:40.028603Z",
     "shell.execute_reply": "2023-11-06T09:39:40.027149Z"
    },
    "papermill": {
     "duration": 0.022807,
     "end_time": "2023-11-06T09:39:40.031022",
     "exception": false,
     "start_time": "2023-11-06T09:39:40.008215",
     "status": "completed"
    },
    "tags": []
   },
   "outputs": [
    {
     "name": "stdout",
     "output_type": "stream",
     "text": [
      "Sorted Dataframe:\n",
      "      name  age       city\n",
      "0  Bhushan   19  Porbandar\n",
      "1   Gaurav   18     Rajkot\n",
      "3    Hasan   18    Vadodra\n",
      "2  Hitarth   18  Ahmedabad\n"
     ]
    }
   ],
   "source": [
    "#Practical 7.2:  to sort the DataFrame first by 'name' in ascending order\n",
    "#Name: Bhushan Joshi\n",
    "#Enrollment: 216270307050\n",
    "\n",
    "import pandas as pd\n",
    "data = {\n",
    "    \"name\": [\"Bhushan\", \"Gaurav\", \"Hitarth\", \"Hasan\"],\n",
    "    \"age\": [19, 18, 18, 18],\n",
    "    \"city\": [\"Porbandar\", \"Rajkot\", \"Ahmedabad\", \"Vadodra\"]\n",
    "}\n",
    "\n",
    "df.sort_values(by=\"name\", ascending=True, inplace=True)\n",
    "\n",
    "print(\"Sorted Dataframe:\")\n",
    "print(df)\n"
   ]
  },
  {
   "cell_type": "code",
   "execution_count": 4,
   "id": "9b8918f0",
   "metadata": {
    "execution": {
     "iopub.execute_input": "2023-11-06T09:39:40.039749Z",
     "iopub.status.busy": "2023-11-06T09:39:40.039284Z",
     "iopub.status.idle": "2023-11-06T09:39:40.054291Z",
     "shell.execute_reply": "2023-11-06T09:39:40.053417Z"
    },
    "papermill": {
     "duration": 0.023104,
     "end_time": "2023-11-06T09:39:40.057407",
     "exception": false,
     "start_time": "2023-11-06T09:39:40.034303",
     "status": "completed"
    },
    "tags": []
   },
   "outputs": [
    {
     "name": "stdout",
     "output_type": "stream",
     "text": [
      "Dataframe:\n",
      "      name       city\n",
      "0  Bhushan  Porbandar\n",
      "1   Gaurav     Rajkot\n",
      "3    Hasan    Vadodra\n",
      "2  Hitarth  Ahmedabad\n"
     ]
    }
   ],
   "source": [
    "#Practical 7.3: to delete the one specific column from the DataFrame  \n",
    "#Name: Bhushan Joshi\n",
    "#Enrollment: 216270307050\n",
    "import pandas as pd\n",
    "data = {\n",
    "    \"name\": [\"Bhushan\", \"Gaurav\", \"Hitarth\", \"Hasan\"],\n",
    "    \"age\": [19, 18, 18, 18],\n",
    "    \"city\": [\"Porbandar\", \"Rajkot\", \"Ahmedabad\", \"Vadodra\"]\n",
    "}\n",
    "\n",
    "df.drop(\"age\", axis=1, inplace=True)\n",
    "\n",
    "print(\"Dataframe:\")\n",
    "print(df)\n"
   ]
  },
  {
   "cell_type": "code",
   "execution_count": 5,
   "id": "58a5e223",
   "metadata": {
    "execution": {
     "iopub.execute_input": "2023-11-06T09:39:40.066643Z",
     "iopub.status.busy": "2023-11-06T09:39:40.066258Z",
     "iopub.status.idle": "2023-11-06T09:39:40.080472Z",
     "shell.execute_reply": "2023-11-06T09:39:40.079652Z"
    },
    "papermill": {
     "duration": 0.022269,
     "end_time": "2023-11-06T09:39:40.083421",
     "exception": false,
     "start_time": "2023-11-06T09:39:40.061152",
     "status": "completed"
    },
    "tags": []
   },
   "outputs": [
    {
     "name": "stdout",
     "output_type": "stream",
     "text": [
      "      name  age       city\n",
      "0  Bhushan   19  Porbandar\n",
      "1   Gaurav   18     Rajkot\n",
      "2  Hitarth   18  Ahmedabad\n",
      "3    Hasan   18    Vadodra\n",
      "Data written successfully\n"
     ]
    }
   ],
   "source": [
    "#Practical 7.4 to write a DataFrame to CSV file using tab separator \n",
    "#Name: Bhushan Joshi\n",
    "#Enrollment: 216270307050\n",
    "import pandas as pd\n",
    "data = {\n",
    "    \"name\": [\"Bhushan\", \"Gaurav\", \"Hitarth\", \"Hasan\"],\n",
    "    \"age\": [19, 18, 18, 18],\n",
    "    \"city\": [\"Porbandar\", \"Rajkot\", \"Ahmedabad\", \"Vadodra\"]\n",
    "}\n",
    "new_data=pd.DataFrame(data=data)\n",
    "df1=new_data.to_csv('data.csv', sep='\\t', index=False)\n",
    "print(new_data)\n",
    "print(\"Data written successfully\")"
   ]
  },
  {
   "cell_type": "code",
   "execution_count": null,
   "id": "c4b180dc",
   "metadata": {
    "papermill": {
     "duration": 0.003426,
     "end_time": "2023-11-06T09:39:40.090761",
     "exception": false,
     "start_time": "2023-11-06T09:39:40.087335",
     "status": "completed"
    },
    "tags": []
   },
   "outputs": [],
   "source": []
  }
 ],
 "metadata": {
  "kernelspec": {
   "display_name": "Python 3",
   "language": "python",
   "name": "python3"
  },
  "language_info": {
   "codemirror_mode": {
    "name": "ipython",
    "version": 3
   },
   "file_extension": ".py",
   "mimetype": "text/x-python",
   "name": "python",
   "nbconvert_exporter": "python",
   "pygments_lexer": "ipython3",
   "version": "3.10.12"
  },
  "papermill": {
   "default_parameters": {},
   "duration": 4.570158,
   "end_time": "2023-11-06T09:39:40.516034",
   "environment_variables": {},
   "exception": null,
   "input_path": "__notebook__.ipynb",
   "output_path": "__notebook__.ipynb",
   "parameters": {},
   "start_time": "2023-11-06T09:39:35.945876",
   "version": "2.4.0"
  }
 },
 "nbformat": 4,
 "nbformat_minor": 5
}
