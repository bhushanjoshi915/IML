{
 "cells": [
  {
   "cell_type": "code",
   "execution_count": 1,
   "id": "e8da0fc5",
   "metadata": {
    "_cell_guid": "b1076dfc-b9ad-4769-8c92-a6c4dae69d19",
    "_uuid": "8f2839f25d086af736a60e9eeb907d3b93b6e0e5",
    "execution": {
     "iopub.execute_input": "2023-11-06T09:39:12.030595Z",
     "iopub.status.busy": "2023-11-06T09:39:12.029694Z",
     "iopub.status.idle": "2023-11-06T09:39:12.035307Z",
     "shell.execute_reply": "2023-11-06T09:39:12.034495Z"
    },
    "papermill": {
     "duration": 0.012868,
     "end_time": "2023-11-06T09:39:12.037549",
     "exception": false,
     "start_time": "2023-11-06T09:39:12.024681",
     "status": "completed"
    },
    "tags": []
   },
   "outputs": [],
   "source": [
    "###########################################################################################\n",
    "#                                 Name:Bhushan Joshi                                      #\n",
    "#                                 Enrollment:2162270307050                                #\n",
    "#                                 Div:G                                                   #\n",
    "#                                 Government Polytechnic Porbandar                        #\n",
    "###########################################################################################\n",
    "\n",
    "#Practical 6: Write a Pandas program to implement following operation"
   ]
  },
  {
   "cell_type": "code",
   "execution_count": 2,
   "id": "46acd876",
   "metadata": {
    "execution": {
     "iopub.execute_input": "2023-11-06T09:39:12.047728Z",
     "iopub.status.busy": "2023-11-06T09:39:12.046519Z",
     "iopub.status.idle": "2023-11-06T09:39:12.481161Z",
     "shell.execute_reply": "2023-11-06T09:39:12.480003Z"
    },
    "papermill": {
     "duration": 0.443188,
     "end_time": "2023-11-06T09:39:12.483793",
     "exception": false,
     "start_time": "2023-11-06T09:39:12.040605",
     "status": "completed"
    },
    "tags": []
   },
   "outputs": [
    {
     "name": "stdout",
     "output_type": "stream",
     "text": [
      "Numpy Array is:\n"
     ]
    },
    {
     "data": {
      "text/plain": [
       "array([1, 2, 3, 5, 6, 7, 4, 8])"
      ]
     },
     "metadata": {},
     "output_type": "display_data"
    },
    {
     "name": "stdout",
     "output_type": "stream",
     "text": [
      "Pandas Series is:\n",
      " 0    1\n",
      "1    2\n",
      "2    3\n",
      "3    5\n",
      "4    6\n",
      "5    7\n",
      "6    4\n",
      "7    8\n",
      "dtype: int64\n"
     ]
    }
   ],
   "source": [
    "#Practical 6.1 to convert a NumPy array to a Pandas series\n",
    "#Name: Bhushan Joshi\n",
    "#Enrollment: 216270307050\n",
    "import numpy as np\n",
    "import pandas as pd\n",
    "\n",
    "arr1= np.array([1,2,3,5,6,7,4,8])\n",
    "print(\"Numpy Array is:\")\n",
    "display(arr1)\n",
    "\n",
    "arr2=pd.Series(arr1)\n",
    "print(\"Pandas Series is:\\n\",arr2)"
   ]
  },
  {
   "cell_type": "code",
   "execution_count": 3,
   "id": "e5a32532",
   "metadata": {
    "execution": {
     "iopub.execute_input": "2023-11-06T09:39:12.492399Z",
     "iopub.status.busy": "2023-11-06T09:39:12.491877Z",
     "iopub.status.idle": "2023-11-06T09:39:12.504597Z",
     "shell.execute_reply": "2023-11-06T09:39:12.503789Z"
    },
    "papermill": {
     "duration": 0.01976,
     "end_time": "2023-11-06T09:39:12.507142",
     "exception": false,
     "start_time": "2023-11-06T09:39:12.487382",
     "status": "completed"
    },
    "tags": []
   },
   "outputs": [
    {
     "name": "stdout",
     "output_type": "stream",
     "text": [
      "0    1\n",
      "1    2\n",
      "2    3\n",
      "3    4\n",
      "4    5\n",
      "5    6\n",
      "Name: numbers, dtype: int64\n"
     ]
    }
   ],
   "source": [
    "#Practical 6.2to convert the first column of a DataFrame as a Series\n",
    "#Name: Bhushan Joshi\n",
    "#Enrollment: 216270307050\n",
    "import pandas as pd\n",
    "data = {'numbers': [1, 2, 3, 4, 5, 6], 'alphabates': ['a', 'b', 'c', 'd', 'e', 'f']}\n",
    "df = pd.DataFrame(data)\n",
    "df_to_series = df['numbers']\n",
    "print(df_to_series)"
   ]
  },
  {
   "cell_type": "code",
   "execution_count": 4,
   "id": "12d9dfdd",
   "metadata": {
    "execution": {
     "iopub.execute_input": "2023-11-06T09:39:12.515137Z",
     "iopub.status.busy": "2023-11-06T09:39:12.514770Z",
     "iopub.status.idle": "2023-11-06T09:39:12.524222Z",
     "shell.execute_reply": "2023-11-06T09:39:12.523162Z"
    },
    "papermill": {
     "duration": 0.017022,
     "end_time": "2023-11-06T09:39:12.527566",
     "exception": false,
     "start_time": "2023-11-06T09:39:12.510544",
     "status": "completed"
    },
    "tags": []
   },
   "outputs": [
    {
     "name": "stdout",
     "output_type": "stream",
     "text": [
      "Original Series is:\n",
      " 0    1\n",
      "1    2\n",
      "2    3\n",
      "3    4\n",
      "4    5\n",
      "dtype: int64\n",
      "mean is 3.0\n",
      "Standard Deviation is: 1.5811388300841898\n"
     ]
    }
   ],
   "source": [
    "#Practical 6.3 to create the mean and standard deviation of the data of a given Series\n",
    "#Name: Bhushan Joshi\n",
    "#Enrollment: 216270307050\n",
    "import pandas as pd\n",
    "s=pd.Series(data=[1,2,3,4,5])\n",
    "print(\"Original Series is:\\n\",s)\n",
    "print(\"mean is\",s.mean())\n",
    "print(\"Standard Deviation is:\",s.std())"
   ]
  },
  {
   "cell_type": "code",
   "execution_count": 5,
   "id": "3cb81197",
   "metadata": {
    "execution": {
     "iopub.execute_input": "2023-11-06T09:39:12.536293Z",
     "iopub.status.busy": "2023-11-06T09:39:12.535920Z",
     "iopub.status.idle": "2023-11-06T09:39:12.545819Z",
     "shell.execute_reply": "2023-11-06T09:39:12.544605Z"
    },
    "papermill": {
     "duration": 0.017008,
     "end_time": "2023-11-06T09:39:12.548210",
     "exception": false,
     "start_time": "2023-11-06T09:39:12.531202",
     "status": "completed"
    },
    "tags": []
   },
   "outputs": [
    {
     "name": "stdout",
     "output_type": "stream",
     "text": [
      "\n",
      " 0    1\n",
      "1    2\n",
      "2    3\n",
      "3    4\n",
      "4    5\n",
      "dtype: int64\n"
     ]
    }
   ],
   "source": [
    "#Practical 6.4 to sort a given Series\n",
    "#Name: Bhushan Joshi\n",
    "#Enrollment: 216270307050\n",
    "import pandas as pd\n",
    "s=pd.Series(data=[1,2,3,4,5])\n",
    "print(\"\\n\",s.sort_values())\n"
   ]
  }
 ],
 "metadata": {
  "kernelspec": {
   "display_name": "Python 3",
   "language": "python",
   "name": "python3"
  },
  "language_info": {
   "codemirror_mode": {
    "name": "ipython",
    "version": 3
   },
   "file_extension": ".py",
   "mimetype": "text/x-python",
   "name": "python",
   "nbconvert_exporter": "python",
   "pygments_lexer": "ipython3",
   "version": "3.10.12"
  },
  "papermill": {
   "default_parameters": {},
   "duration": 4.757607,
   "end_time": "2023-11-06T09:39:13.071838",
   "environment_variables": {},
   "exception": null,
   "input_path": "__notebook__.ipynb",
   "output_path": "__notebook__.ipynb",
   "parameters": {},
   "start_time": "2023-11-06T09:39:08.314231",
   "version": "2.4.0"
  }
 },
 "nbformat": 4,
 "nbformat_minor": 5
}
