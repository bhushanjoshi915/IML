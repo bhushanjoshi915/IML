{
 "cells": [
  {
   "cell_type": "code",
   "execution_count": 1,
   "id": "6a00a01d",
   "metadata": {
    "_cell_guid": "b1076dfc-b9ad-4769-8c92-a6c4dae69d19",
    "_uuid": "8f2839f25d086af736a60e9eeb907d3b93b6e0e5",
    "execution": {
     "iopub.execute_input": "2023-11-06T09:37:45.766056Z",
     "iopub.status.busy": "2023-11-06T09:37:45.765561Z",
     "iopub.status.idle": "2023-11-06T09:37:45.771712Z",
     "shell.execute_reply": "2023-11-06T09:37:45.770634Z"
    },
    "papermill": {
     "duration": 0.013942,
     "end_time": "2023-11-06T09:37:45.774030",
     "exception": false,
     "start_time": "2023-11-06T09:37:45.760088",
     "status": "completed"
    },
    "tags": []
   },
   "outputs": [],
   "source": [
    "###########################################################################################\n",
    "#                                  Name:Bhushan Joshi                                     #\n",
    "#                                  Enrollment:2162270307050                               #\n",
    "#                                  Div:G                                                  #\n",
    "#                                  Government Polytechnic Porbandar                       #\n",
    "###########################################################################################\n",
    "\n",
    "#Practical 4: Write a NumPy program to implement following operation\n"
   ]
  },
  {
   "cell_type": "code",
   "execution_count": 2,
   "id": "aab0cd02",
   "metadata": {
    "execution": {
     "iopub.execute_input": "2023-11-06T09:37:45.783641Z",
     "iopub.status.busy": "2023-11-06T09:37:45.783220Z",
     "iopub.status.idle": "2023-11-06T09:37:45.802840Z",
     "shell.execute_reply": "2023-11-06T09:37:45.801606Z"
    },
    "papermill": {
     "duration": 0.028478,
     "end_time": "2023-11-06T09:37:45.805689",
     "exception": false,
     "start_time": "2023-11-06T09:37:45.777211",
     "status": "completed"
    },
    "tags": []
   },
   "outputs": [
    {
     "name": "stdout",
     "output_type": "stream",
     "text": [
      "Array 1:\n",
      "[1 2 3]\n",
      "\n",
      "Array 2:\n",
      "[4 5 6]\n",
      "\n",
      "Addition:\n",
      "[5 7 9]\n",
      "\n",
      "Subtraction:\n",
      "[-3 -3 -3]\n",
      "\n",
      "Multiplication:\n",
      "[ 4 10 18]\n",
      "\n",
      "Division:\n",
      "[0.25 0.4  0.5 ]\n"
     ]
    }
   ],
   "source": [
    "#Practical 4.1:to add, subtract, multiply, divide arguments element-wise\n",
    "import numpy as np\n",
    "arr = np.array([1, 2, 3])\n",
    "arr1 = np.array([4, 5, 6])\n",
    "\n",
    "print(\"Array 1:\")\n",
    "print(arr)\n",
    "\n",
    "print(\"\\nArray 2:\")\n",
    "print(arr1)\n",
    "sum = np.add(arr, arr1)\n",
    "subtract = np.subtract(arr, arr1) \n",
    "multiply = np.multiply(arr, arr1) \n",
    "divide = np.divide(arr, arr1) \n",
    "print(\"\\nAddition:\")\n",
    "print(sum)\n",
    "print(\"\\nSubtraction:\")\n",
    "print(subtract)\n",
    "print(\"\\nMultiplication:\")\n",
    "print(multiply)\n",
    "print(\"\\nDivision:\")\n",
    "print(divide)"
   ]
  },
  {
   "cell_type": "code",
   "execution_count": 3,
   "id": "3138fbda",
   "metadata": {
    "execution": {
     "iopub.execute_input": "2023-11-06T09:37:45.813907Z",
     "iopub.status.busy": "2023-11-06T09:37:45.813279Z",
     "iopub.status.idle": "2023-11-06T09:37:45.820085Z",
     "shell.execute_reply": "2023-11-06T09:37:45.818876Z"
    },
    "papermill": {
     "duration": 0.013917,
     "end_time": "2023-11-06T09:37:45.822614",
     "exception": false,
     "start_time": "2023-11-06T09:37:45.808697",
     "status": "completed"
    },
    "tags": []
   },
   "outputs": [
    {
     "name": "stdout",
     "output_type": "stream",
     "text": [
      "[1. 2. 3. 4. 5.]\n"
     ]
    }
   ],
   "source": [
    "#Practical 4.2: to round elements of the array to the nearest integer\n",
    "import numpy as np\n",
    "arr1=np.array([1.2,2.3,3.4,4,5]).round()\n",
    "print(arr1)"
   ]
  },
  {
   "cell_type": "code",
   "execution_count": 4,
   "id": "fc8a99f9",
   "metadata": {
    "execution": {
     "iopub.execute_input": "2023-11-06T09:37:45.831309Z",
     "iopub.status.busy": "2023-11-06T09:37:45.830604Z",
     "iopub.status.idle": "2023-11-06T09:37:45.840374Z",
     "shell.execute_reply": "2023-11-06T09:37:45.838831Z"
    },
    "papermill": {
     "duration": 0.017266,
     "end_time": "2023-11-06T09:37:45.843116",
     "exception": false,
     "start_time": "2023-11-06T09:37:45.825850",
     "status": "completed"
    },
    "tags": []
   },
   "outputs": [
    {
     "name": "stdout",
     "output_type": "stream",
     "text": [
      "Original Array is: [[1 2]\n",
      " [3 4]\n",
      " [5 6]]\n",
      "Mean along rows (axis 0): [3. 4.]\n",
      "Mean Along Columns (Axis 1): [1.5 3.5 5.5]\n"
     ]
    }
   ],
   "source": [
    "#Practical 4.3 to calculate mean across dimension, in a 2D numpy array\n",
    "import numpy as np\n",
    "arr1=np.array([[1,2],[3,4],[5,6]])\n",
    "print(\"Original Array is:\",arr1)\n",
    "arr2=np.mean(arr1,axis=0)\n",
    "print(\"Mean along rows (axis 0):\",arr2)\n",
    "arr3=np.mean(arr1,axis=1)\n",
    "print(\"Mean Along Columns (Axis 1):\",arr3)\n"
   ]
  },
  {
   "cell_type": "code",
   "execution_count": 5,
   "id": "74741b43",
   "metadata": {
    "execution": {
     "iopub.execute_input": "2023-11-06T09:37:45.852308Z",
     "iopub.status.busy": "2023-11-06T09:37:45.851492Z",
     "iopub.status.idle": "2023-11-06T09:37:45.859516Z",
     "shell.execute_reply": "2023-11-06T09:37:45.857677Z"
    },
    "papermill": {
     "duration": 0.015893,
     "end_time": "2023-11-06T09:37:45.862438",
     "exception": false,
     "start_time": "2023-11-06T09:37:45.846545",
     "status": "completed"
    },
    "tags": []
   },
   "outputs": [
    {
     "name": "stdout",
     "output_type": "stream",
     "text": [
      "[1 3 5 7 9]\n",
      "[2 2 2 2]\n"
     ]
    }
   ],
   "source": [
    "#Practical 4.4 to calculate the difference between neighboring elements, elementwise of a given array\n",
    "import numpy as np\n",
    "arr = np.array([1, 3, 5, 7, 9])\n",
    "print(arr)\n",
    "diff = np.diff(arr)\n",
    "print(diff)"
   ]
  }
 ],
 "metadata": {
  "kernelspec": {
   "display_name": "Python 3",
   "language": "python",
   "name": "python3"
  },
  "language_info": {
   "codemirror_mode": {
    "name": "ipython",
    "version": 3
   },
   "file_extension": ".py",
   "mimetype": "text/x-python",
   "name": "python",
   "nbconvert_exporter": "python",
   "pygments_lexer": "ipython3",
   "version": "3.10.12"
  },
  "papermill": {
   "default_parameters": {},
   "duration": 4.446833,
   "end_time": "2023-11-06T09:37:46.286473",
   "environment_variables": {},
   "exception": null,
   "input_path": "__notebook__.ipynb",
   "output_path": "__notebook__.ipynb",
   "parameters": {},
   "start_time": "2023-11-06T09:37:41.839640",
   "version": "2.4.0"
  }
 },
 "nbformat": 4,
 "nbformat_minor": 5
}
