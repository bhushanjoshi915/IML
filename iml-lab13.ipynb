{
 "cells": [
  {
   "cell_type": "code",
   "execution_count": 1,
   "id": "bbf3af3b",
   "metadata": {
    "_cell_guid": "b1076dfc-b9ad-4769-8c92-a6c4dae69d19",
    "_uuid": "8f2839f25d086af736a60e9eeb907d3b93b6e0e5",
    "execution": {
     "iopub.execute_input": "2023-11-06T10:27:55.355151Z",
     "iopub.status.busy": "2023-11-06T10:27:55.354640Z",
     "iopub.status.idle": "2023-11-06T10:27:55.361327Z",
     "shell.execute_reply": "2023-11-06T10:27:55.360040Z"
    },
    "papermill": {
     "duration": 0.014285,
     "end_time": "2023-11-06T10:27:55.364817",
     "exception": false,
     "start_time": "2023-11-06T10:27:55.350532",
     "status": "completed"
    },
    "tags": []
   },
   "outputs": [],
   "source": [
    "###########################################################################################\n",
    "#                                  Name:Bhushan Joshi                                     #\n",
    "#                                  Enrollment:2162270307050                               #\n",
    "#                                  Div:G                                                  #\n",
    "#                                  Government Polytechnic Porbandar                       #\n",
    "###########################################################################################\n",
    "\n",
    "#Practical 13: \n",
    "# Write a Python program to implement K-Nearest Neighbour supervised\n",
    "# machine learning algorithm for given dataset"
   ]
  },
  {
   "cell_type": "code",
   "execution_count": 2,
   "id": "3ddb0d91",
   "metadata": {
    "execution": {
     "iopub.execute_input": "2023-11-06T10:27:55.371081Z",
     "iopub.status.busy": "2023-11-06T10:27:55.370514Z",
     "iopub.status.idle": "2023-11-06T10:27:57.281023Z",
     "shell.execute_reply": "2023-11-06T10:27:57.279819Z"
    },
    "papermill": {
     "duration": 1.919892,
     "end_time": "2023-11-06T10:27:57.287063",
     "exception": false,
     "start_time": "2023-11-06T10:27:55.367171",
     "status": "completed"
    },
    "tags": []
   },
   "outputs": [
    {
     "name": "stdout",
     "output_type": "stream",
     "text": [
      "[1 0 2 1 1 0 1 2 2 1 2 0 0 0 0 1 2 1 1 2 0 2 0 2 2 2 2 2 0 0]\n"
     ]
    }
   ],
   "source": [
    "#Name: Bhushan Joshi\n",
    "#Enrollment: 216270307050\n",
    " # Import necessary modules\n",
    "from sklearn.neighbors import KNeighborsClassifier\n",
    "from sklearn.model_selection import train_test_split\n",
    "from sklearn.datasets import load_iris\n",
    "# Loading data\n",
    "irisData = load_iris()\n",
    "#print(irisData) \n",
    "# Create feature and target arrays\n",
    "X = irisData.data\n",
    "y = irisData.target\n",
    "# Split into training and test set\n",
    "X_train, X_test, y_train, y_test = train_test_split( X, y, test_size = 0.2, random_state=42)\n",
    "knn = KNeighborsClassifier(n_neighbors=7)\n",
    "knn.fit(X_train, y_train)\n",
    "\n",
    "# Predict on dataset which model has not seen before\n",
    "print(knn.predict(X_test))\n"
   ]
  }
 ],
 "metadata": {
  "kernelspec": {
   "display_name": "Python 3",
   "language": "python",
   "name": "python3"
  },
  "language_info": {
   "codemirror_mode": {
    "name": "ipython",
    "version": 3
   },
   "file_extension": ".py",
   "mimetype": "text/x-python",
   "name": "python",
   "nbconvert_exporter": "python",
   "pygments_lexer": "ipython3",
   "version": "3.10.12"
  },
  "papermill": {
   "default_parameters": {},
   "duration": 6.274177,
   "end_time": "2023-11-06T10:27:58.013782",
   "environment_variables": {},
   "exception": null,
   "input_path": "__notebook__.ipynb",
   "output_path": "__notebook__.ipynb",
   "parameters": {},
   "start_time": "2023-11-06T10:27:51.739605",
   "version": "2.4.0"
  }
 },
 "nbformat": 4,
 "nbformat_minor": 5
}
