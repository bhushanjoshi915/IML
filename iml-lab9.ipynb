{
 "cells": [
  {
   "cell_type": "code",
   "execution_count": 1,
   "id": "ea38d9ee",
   "metadata": {
    "_cell_guid": "b1076dfc-b9ad-4769-8c92-a6c4dae69d19",
    "_uuid": "8f2839f25d086af736a60e9eeb907d3b93b6e0e5",
    "execution": {
     "iopub.execute_input": "2023-11-06T10:30:20.937171Z",
     "iopub.status.busy": "2023-11-06T10:30:20.936518Z",
     "iopub.status.idle": "2023-11-06T10:30:20.942189Z",
     "shell.execute_reply": "2023-11-06T10:30:20.941262Z"
    },
    "papermill": {
     "duration": 0.01193,
     "end_time": "2023-11-06T10:30:20.944487",
     "exception": false,
     "start_time": "2023-11-06T10:30:20.932557",
     "status": "completed"
    },
    "tags": []
   },
   "outputs": [],
   "source": [
    "###########################################################################################\n",
    "#                                  Name:Bhushan Joshi                                     #\n",
    "#                                  Enrollment:2162270307050                               #\n",
    "#                                  Div:G                                                  #\n",
    "#                                  Government Polytechnic Porbandar                       #\n",
    "###########################################################################################\n",
    "\n",
    "#Practical 8: Write a Pandas program to create a plot of Open, High, Low, Close, \n",
    "# Adjusted Closing prices and Volume of given company between two \n",
    "# specific dates."
   ]
  },
  {
   "cell_type": "code",
   "execution_count": 2,
   "id": "b7d3b1c5",
   "metadata": {
    "execution": {
     "iopub.execute_input": "2023-11-06T10:30:20.949979Z",
     "iopub.status.busy": "2023-11-06T10:30:20.949258Z",
     "iopub.status.idle": "2023-11-06T10:30:21.766444Z",
     "shell.execute_reply": "2023-11-06T10:30:21.764958Z"
    },
    "papermill": {
     "duration": 0.82505,
     "end_time": "2023-11-06T10:30:21.771476",
     "exception": false,
     "start_time": "2023-11-06T10:30:20.946426",
     "status": "completed"
    },
    "tags": []
   },
   "outputs": [
    {
     "data": {
      "image/png": "[encoded data removed]",
      "text/plain": [
       "<Figure size 640x480 with 1 Axes>"
      ]
     },
     "metadata": {},
     "output_type": "display_data"
    }
   ],
   "source": [
    "#Name: Bhushan Joshi\n",
    "#Enrollment: 216270307050\n",
    "\n",
    "import pandas as pd\n",
    "import matplotlib.pyplot as plt\n",
    "# Read the CSV file into a DataFrame\n",
    "df = pd.read_csv('/kaggle/input/nifty50-stock-market-data/HCLTECH.csv')\n",
    "# Limit the DataFrame \n",
    "limited_df = df.iloc[10:20]\n",
    "# Create a date range with the desired start date and frequency\n",
    "date_range = pd.date_range(\"2000-03-07\", periods=len(limited_df), freq=\"D\")\n",
    "# Set the date range as the index of the limited DataFrame\n",
    "limited_df.set_index(date_range, inplace=True)\n",
    "# Define colors, width for candlesticks\n",
    "col1 = 'Green' # When the stock prices have increased\n",
    "col2 = 'red' # When the stock prices have decreased\n",
    "width = .3\n",
    "width2 =.03\n",
    "# Create separate DataFrames for \"up\" (increasing) and \"down\" (decreasing) prices\n",
    "up = limited_df[limited_df['Close'] > limited_df['Open']]\n",
    "down = limited_df[limited_df['Open'] > limited_df['Close']]\n",
    "\n",
    "# Plotting up prices of the stock\n",
    "plt.bar(up.index, up['Close'] - up['Open'], width, bottom=up['Open'], color=col1)\n",
    "plt.bar(up.index, up['High'] - up['Close'], width2, bottom=up['Close'], color=col1)\n",
    "plt.bar(up.index, up['Low'] - up['Open'], width2, bottom=up['Open'], color=col1)\n",
    "# Plotting down prices of the stock\n",
    "plt.bar(down.index, down['Open'] - down['Close'], width, bottom=down['Close'], \n",
    "color=col2)\n",
    "plt.bar(down.index, down['Open'] - down['High'], width2, bottom=down['High'], \n",
    "color=col2)\n",
    "plt.bar(down.index, down['Open'] - down['Low'], width2, bottom=down['Low'], \n",
    "color=col2)\n",
    "# Rotating the x-axis tick labels at 30 degrees towards right\n",
    "plt.xticks(rotation=30, ha='right')\n",
    "# Displaying the candlestick chart of stock data\n",
    "plt.show()\n"
   ]
  }
 ],
 "metadata": {
  "kernelspec": {
   "display_name": "Python 3",
   "language": "python",
   "name": "python3"
  },
  "language_info": {
   "codemirror_mode": {
    "name": "ipython",
    "version": 3
   },
   "file_extension": ".py",
   "mimetype": "text/x-python",
   "name": "python",
   "nbconvert_exporter": "python",
   "pygments_lexer": "ipython3",
   "version": "3.10.12"
  },
  "papermill": {
   "default_parameters": {},
   "duration": 4.870826,
   "end_time": "2023-11-06T10:30:22.297651",
   "environment_variables": {},
   "exception": null,
   "input_path": "__notebook__.ipynb",
   "output_path": "__notebook__.ipynb",
   "parameters": {},
   "start_time": "2023-11-06T10:30:17.426825",
   "version": "2.4.0"
  }
 },
 "nbformat": 4,
 "nbformat_minor": 5
}
